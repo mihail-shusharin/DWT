{
 "cells": [
  {
   "cell_type": "code",
   "execution_count": 100,
   "metadata": {},
   "outputs": [],
   "source": [
    "import numpy as np\n",
    "import matplotlib.pyplot as plt\n",
    "\n",
    "%matplotlib inline"
   ]
  },
  {
   "cell_type": "code",
   "execution_count": 333,
   "metadata": {},
   "outputs": [],
   "source": [
    "t = np.linspace(0,1,100)\n",
    "\n",
    "sig = 5*np.sin(2*3.14*2*t) + 2*np.random.rand(100)"
   ]
  },
  {
   "cell_type": "code",
   "execution_count": 294,
   "metadata": {},
   "outputs": [],
   "source": [
    "mov = 0"
   ]
  },
  {
   "cell_type": "code",
   "execution_count": 295,
   "metadata": {},
   "outputs": [
    {
     "data": {
      "text/plain": [
       "array([ 0.        ,  0.        ,  0.        ,  0.        ,  0.        ,\n",
       "        0.        ,  0.        ,  0.        ,  0.        ,  0.        ,\n",
       "        0.        ,  0.        ,  0.        ,  0.        ,  0.        ,\n",
       "        0.        ,  0.        ,  0.        ,  0.        ,  0.        ,\n",
       "        0.        ,  0.        ,  0.        ,  0.        ,  0.        ,\n",
       "        0.        ,  0.        ,  0.        ,  0.        ,  0.        ,\n",
       "        0.        ,  0.        ,  0.        ,  0.        ,  0.        ,\n",
       "        0.        ,  0.        ,  0.        ,  0.        ,  0.        ,\n",
       "        0.        ,  0.        ,  0.        ,  0.        ,  0.        ,\n",
       "        0.        ,  0.        ,  0.        ,  0.        ,  0.        ,\n",
       "        0.        ,  0.        ,  0.        ,  0.        ,  0.        ,\n",
       "        0.        ,  0.        ,  0.        ,  0.        ,  0.        ,\n",
       "        0.        ,  0.        ,  0.        ,  0.        ,  0.        ,\n",
       "        0.        ,  0.        ,  0.        ,  0.        ,  0.        ,\n",
       "        0.        ,  0.        ,  0.74491189,  1.60005895,  1.48984445,\n",
       "        2.7867956 ,  3.24301933,  4.567655  ,  3.53917018,  5.74455672,\n",
       "        6.13452173,  6.2220775 ,  6.07467934,  6.38898203,  6.46976366,\n",
       "        6.23495789,  5.18853304,  4.93087589,  4.82300718,  5.41452203,\n",
       "        4.35624022,  5.29899067,  3.71579825,  4.06325636,  2.732179  ,\n",
       "        1.92946115,  1.7801164 ,  0.93586676, -0.02195751,  0.25300931,\n",
       "       -0.30049298, -1.68022422, -1.6725589 , -3.35395291, -3.93470784,\n",
       "       -3.24176952, -3.57943442, -3.67410609, -4.19626081, -4.30740491,\n",
       "       -4.63341723, -3.52490902, -4.44522207, -3.31732939, -2.98468799,\n",
       "       -3.29181354, -3.17156902, -2.53872968, -1.40936902, -0.75120839,\n",
       "        0.80952898,  1.07709443,  1.8163013 ,  2.49741144,  1.56831424,\n",
       "        2.27508241,  3.76747273,  5.03629133,  4.20338473,  5.12993165,\n",
       "        4.94744214,  5.73879033,  5.08347469,  5.94124881,  5.65144039,\n",
       "        5.72322164,  5.42823149,  5.4694924 ,  5.65461377,  5.27534181,\n",
       "        4.10745111,  3.53623141,  3.48931619,  3.95544708,  2.50569778,\n",
       "        1.23629639,  0.6943538 ,  0.96650374, -0.99525665, -1.41899835,\n",
       "       -1.06697252, -1.53585714, -2.54581284, -3.63240838, -3.11505862,\n",
       "       -4.35211886, -4.41107108, -3.79284005, -4.68866097, -3.67584119,\n",
       "       -3.45782199, -3.51979093, -4.20140097, -3.81355899, -2.00056536,\n",
       "       -2.49639785, -2.36092218, -2.24148121, -1.48367784, -1.12675113,\n",
       "       -0.43000882,  0.52977242])"
      ]
     },
     "execution_count": 295,
     "metadata": {},
     "output_type": "execute_result"
    }
   ],
   "source": [
    "sdvig=np.zeros(18)\n",
    "nol=np.zeros(72)\n",
    "sig=np.concatenate((nol,sig),axis=0)\n",
    "sig"
   ]
  },
  {
   "cell_type": "code",
   "execution_count": 296,
   "metadata": {},
   "outputs": [
    {
     "data": {
      "text/plain": [
       "[<matplotlib.lines.Line2D at 0x295670c7910>]"
      ]
     },
     "execution_count": 296,
     "metadata": {},
     "output_type": "execute_result"
    },
    {
     "data": {
      "image/png": "[encoded data removed]",
      "text/plain": [
       "<Figure size 432x288 with 1 Axes>"
      ]
     },
     "metadata": {
      "needs_background": "light"
     },
     "output_type": "display_data"
    }
   ],
   "source": [
    "plt.plot(sig)"
   ]
  },
  {
   "cell_type": "code",
   "execution_count": 4,
   "metadata": {},
   "outputs": [],
   "source": [
    "def wavelet(X):\n",
    "    \n",
    "    #h = [0.7071067811865476,0.7071067811865476]\n",
    "    #g = [-0.7071067811865476,0.7071067811865476]\n",
    "    \n",
    "    g = [-0.026670057900950818,0.18817680007762133,-0.5272011889309198,0.6884590394525921,-0.2811723436604265,\n",
    "                -0.24984642432648865,0.19594627437659665,0.12736934033574265,-0.09305736460380659,-0.07139414716586077,\n",
    "                0.02945753682194567,0.03321267405893324,-0.0036065535669883944,-0.010733175482979604,-0.0013953517469940798,\n",
    "                0.00199240529499085,0.0006858566950046825,-0.0001164668549943862,-9.358867000108985e-05,-1.326420300235487e-05]\n",
    "    h = [-1.326420300235487e-05,9.358867000108985e-05,-0.0001164668549943862,-0.0006858566950046825,0.00199240529499085,\n",
    "                0.0013953517469940798,-0.010733175482979604,0.0036065535669883944,0.03321267405893324,-0.02945753682194567,\n",
    "                -0.07139414716586077,0.09305736460380659,0.12736934033574265,-0.19594627437659665,-0.24984642432648865,\n",
    "                0.2811723436604265,0.6884590394525921,0.5272011889309198,0.18817680007762133,0.026670057900950818]\n",
    "\n",
    "    W = np.zeros([len(X),len(X)])\n",
    "    \n",
    "    low_pass = np.zeros_like(X)\n",
    "    high_pass = np.zeros_like(X)\n",
    "    low_pass[0:len(h)] = h\n",
    "    high_pass[0:len(g)] = g\n",
    "    \n",
    "    low_pass = list(low_pass)\n",
    "    high_pass = list(high_pass)\n",
    "    \n",
    "    for i in range(0,len(X),2):\n",
    "        W[i,:] = low_pass\n",
    "        W[i+1,:] = high_pass\n",
    "        \n",
    "        low_pass[0:2], low_pass[2:] = low_pass[-2:], low_pass[:-2]\n",
    "        high_pass[0:2], high_pass[2:] = high_pass[-2:], high_pass[:-2]\n",
    "    \n",
    "    a = np.matmul(W,np.transpose(X))\n",
    "    \n",
    "    return a[::2], a[1::2]"
   ]
  },
  {
   "cell_type": "code",
   "execution_count": null,
   "metadata": {},
   "outputs": [],
   "source": []
  },
  {
   "cell_type": "code",
   "execution_count": 6,
   "metadata": {},
   "outputs": [],
   "source": [
    "def inverse_wavelet(low,high):\n",
    "    a = np.zeros(len(low)*2)\n",
    "    a[::2] = low\n",
    "    a[1::2] = high\n",
    "    \n",
    "    g = [0.026670057900950818,-1.326420300235487e-05,0.5272011889309198,-0.0001164668549943862,0.2811723436604265,\n",
    "         0.00199240529499085,-0.19594627437659665,-0.010733175482979604,0.09305736460380659,0.03321267405893324,\n",
    "         -0.02945753682194567,-0.07139414716586077,0.0036065535669883944,0.12736934033574265,0.0013953517469940798,\n",
    "         -0.24984642432648865,-0.0006858566950046825,0.6884590394525921,9.358867000108985e-05,0.18817680007762133]\n",
    "    h = [0.18817680007762133,-9.358867000108985e-05,0.6884590394525921,0.0006858566950046825,-0.24984642432648865,\n",
    "         -0.0013953517469940798,0.12736934033574265,-0.0036065535669883944,-0.07139414716586077,0.02945753682194567,\n",
    "         0.03321267405893324,-0.09305736460380659,-0.010733175482979604,0.19594627437659665,0.00199240529499085,\n",
    "         -0.2811723436604265,-0.0001164668549943862,-0.5272011889309198,-1.326420300235487e-05,-0.026670057900950818]\n",
    "\n",
    "    \n",
    "    W = np.zeros([len(a),len(a)])\n",
    "    \n",
    "    low_pass = np.zeros_like(a)\n",
    "    high_pass = np.zeros_like(a)\n",
    "    low_pass[0:len(h)] = h\n",
    "    high_pass[0:len(g)] = g\n",
    "\n",
    "    low_pass = list(low_pass)\n",
    "    high_pass = list(high_pass)\n",
    "    \n",
    "    for i in range(0,len(a),2):\n",
    "        W[i,:] = low_pass\n",
    "        W[i+1,:] = high_pass\n",
    "        \n",
    "        low_pass[0:2], low_pass[2:] = low_pass[-2:], low_pass[:-2]\n",
    "        high_pass[0:2], high_pass[2:] = high_pass[-2:], high_pass[:-2]\n",
    "    \n",
    "    X = np.matmul(W,np.transpose(a))\n",
    "    \n",
    "    return X"
   ]
  },
  {
   "cell_type": "code",
   "execution_count": 297,
   "metadata": {},
   "outputs": [],
   "source": [
    "low,high = wavelet(sig)\n",
    "rec_sig = np.concatenate((sdvig,inverse_wavelet(low,high)),axis=0)"
   ]
  },
  {
   "cell_type": "code",
   "execution_count": 298,
   "metadata": {},
   "outputs": [
    {
     "data": {
      "text/plain": [
       "[<matplotlib.lines.Line2D at 0x29567133e20>]"
      ]
     },
     "execution_count": 298,
     "metadata": {},
     "output_type": "execute_result"
    },
    {
     "data": {
      "image/png": "[encoded data removed]",
      "text/plain": [
       "<Figure size 432x288 with 1 Axes>"
      ]
     },
     "metadata": {
      "needs_background": "light"
     },
     "output_type": "display_data"
    }
   ],
   "source": [
    "plt.plot(sig) \n",
    "plt.plot(rec_sig)"
   ]
  },
  {
   "cell_type": "code",
   "execution_count": 299,
   "metadata": {},
   "outputs": [],
   "source": [
    "if len(low)%2!=0:\n",
    "    low=np.insert(low,0,0)\n",
    "    high=np.insert(high,0,0)\n",
    "    mov+=2"
   ]
  },
  {
   "cell_type": "code",
   "execution_count": 300,
   "metadata": {},
   "outputs": [],
   "source": [
    "low2,high2 = wavelet(low)\n",
    "if len(low2)%2!=0:\n",
    "    low2=np.insert(low2,0,0)\n",
    "    high2=np.insert(high2,0,0)\n",
    "    mov+=2\n",
    "\n",
    "rec_sig=np.concatenate((sdvig,inverse_wavelet(low2,high2)),axis=0)\n",
    "if mov!=0:\n",
    "    rec_sig=rec_sig[2:]\n"
   ]
  },
  {
   "cell_type": "code",
   "execution_count": 302,
   "metadata": {},
   "outputs": [
    {
     "data": {
      "text/plain": [
       "[<matplotlib.lines.Line2D at 0x2956719eca0>]"
      ]
     },
     "execution_count": 302,
     "metadata": {},
     "output_type": "execute_result"
    },
    {
     "data": {
      "image/png": "[encoded data removed]",
      "text/plain": [
       "<Figure size 432x288 with 1 Axes>"
      ]
     },
     "metadata": {
      "needs_background": "light"
     },
     "output_type": "display_data"
    }
   ],
   "source": [
    "plt.plot(low)\n",
    "plt.plot(rec_sig)"
   ]
  },
  {
   "cell_type": "code",
   "execution_count": 303,
   "metadata": {},
   "outputs": [],
   "source": [
    "high=np.concatenate((high,sdvig),axis=0)\n",
    "rec_sig2=np.concatenate((sdvig,inverse_wavelet(rec_sig,high)),axis=0)"
   ]
  },
  {
   "cell_type": "code",
   "execution_count": 304,
   "metadata": {},
   "outputs": [
    {
     "data": {
      "text/plain": [
       "[<matplotlib.lines.Line2D at 0x29567617220>]"
      ]
     },
     "execution_count": 304,
     "metadata": {},
     "output_type": "execute_result"
    },
    {
     "data": {
      "image/png": "[encoded data removed]",
      "text/plain": [
       "<Figure size 432x288 with 1 Axes>"
      ]
     },
     "metadata": {
      "needs_background": "light"
     },
     "output_type": "display_data"
    }
   ],
   "source": [
    "plt.plot(sig)\n",
    "plt.plot(rec_sig2)"
   ]
  },
  {
   "cell_type": "code",
   "execution_count": 356,
   "metadata": {},
   "outputs": [],
   "source": [
    "def DWT(signal,level):\n",
    "    signal=np.concatenate((np.zeros(18*(2**level)),sig),axis=0)\n",
    "    nechet=np.zeros(level+1)\n",
    "    Low_and_High = [level+1]\n",
    "    Low_and_High[0] = (signal,0)\n",
    "    for i in range (1,level+1):\n",
    "        Low, High = wavelet(Low_and_High[i-1][0])\n",
    "        if len(Low)%2!=0:\n",
    "            Low=np.insert(Low,0,0)\n",
    "            High=np.insert(High,0,0)\n",
    "            nechet[i]=1\n",
    "        Low_and_High.append((Low,High))\n",
    "    return Low_and_High, nechet,signal\n",
    "        \n",
    "        "
   ]
  },
  {
   "cell_type": "code",
   "execution_count": 399,
   "metadata": {},
   "outputs": [],
   "source": [
    "Low_and_High, nechet,signal = DWT(sig,10)"
   ]
  },
  {
   "cell_type": "code",
   "execution_count": 381,
   "metadata": {},
   "outputs": [
    {
     "data": {
      "text/plain": [
       "array([0., 0., 1., 1., 1., 0.])"
      ]
     },
     "execution_count": 381,
     "metadata": {},
     "output_type": "execute_result"
    }
   ],
   "source": [
    "nechet"
   ]
  },
  {
   "cell_type": "code",
   "execution_count": 396,
   "metadata": {},
   "outputs": [],
   "source": [
    "def Rev_DWT(Low_and_High,level,nechet):\n",
    "    rec_sig=np.concatenate((sdvig,inverse_wavelet(Low_and_High[level][0],Low_and_High[level][1])),axis=0)\n",
    "    if nechet[-1]==1:\n",
    "        rec_sig=rec_sig[2:]\n",
    "    chel =1 \n",
    "    for i in range (level-1,0,-1):\n",
    "        print(i)\n",
    "        mov = np.zeros(18*(chel))\n",
    "        chel=chel+2**(level-i)\n",
    "        high = np.concatenate((Low_and_High[i][1],mov),axis=0)\n",
    "        rec_sig=np.concatenate((sdvig,inverse_wavelet(rec_sig,high)),axis=0)\n",
    "        if nechet[i]==1:\n",
    "            rec_sig=rec_sig[2:]\n",
    "    return rec_sig"
   ]
  },
  {
   "cell_type": "code",
   "execution_count": 400,
   "metadata": {},
   "outputs": [
    {
     "name": "stdout",
     "output_type": "stream",
     "text": [
      "9\n",
      "8\n",
      "7\n",
      "6\n",
      "5\n",
      "4\n",
      "3\n",
      "2\n",
      "1\n"
     ]
    }
   ],
   "source": [
    "rec_sig_fin = Rev_DWT(Low_and_High,10,nechet)"
   ]
  },
  {
   "cell_type": "code",
   "execution_count": 404,
   "metadata": {},
   "outputs": [
    {
     "data": {
      "text/plain": [
       "[<matplotlib.lines.Line2D at 0x2950016d220>]"
      ]
     },
     "execution_count": 404,
     "metadata": {},
     "output_type": "execute_result"
    },
    {
     "data": {
      "image/png": "[encoded data removed]",
      "text/plain": [
       "<Figure size 432x288 with 1 Axes>"
      ]
     },
     "metadata": {
      "needs_background": "light"
     },
     "output_type": "display_data"
    }
   ],
   "source": [
    "plt.plot(rec_sig_fin)\n",
    "plt.plot(signal)"
   ]
  },
  {
   "cell_type": "code",
   "execution_count": null,
   "metadata": {},
   "outputs": [],
   "source": []
  }
 ],
 "metadata": {
  "kernelspec": {
   "display_name": "Python 3",
   "language": "python",
   "name": "python3"
  },
  "language_info": {
   "codemirror_mode": {
    "name": "ipython",
    "version": 3
   },
   "file_extension": ".py",
   "mimetype": "text/x-python",
   "name": "python",
   "nbconvert_exporter": "python",
   "pygments_lexer": "ipython3",
   "version": "3.9.5"
  }
 },
 "nbformat": 4,
 "nbformat_minor": 2
}
